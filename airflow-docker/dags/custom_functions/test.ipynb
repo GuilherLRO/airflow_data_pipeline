{
 "cells": [
  {
   "cell_type": "code",
   "execution_count": 1,
   "metadata": {},
   "outputs": [],
   "source": [
    "from weather_data import *"
   ]
  },
  {
   "cell_type": "code",
   "execution_count": 2,
   "metadata": {},
   "outputs": [
    {
     "name": "stdout",
     "output_type": "stream",
     "text": [
      "['SALVADOR, BAHIA, BRAZIL']\n"
     ]
    }
   ],
   "source": [
    "cities = get_cities_to_weather()[4:5]\n",
    "print(cities)"
   ]
  },
  {
   "cell_type": "code",
   "execution_count": 3,
   "metadata": {},
   "outputs": [
    {
     "name": "stdout",
     "output_type": "stream",
     "text": [
      "SALVADOR, BAHIA, BRAZIL\n"
     ]
    }
   ],
   "source": [
    "create_current_weather_file(cities)"
   ]
  },
  {
   "cell_type": "code",
   "execution_count": 4,
   "metadata": {},
   "outputs": [
    {
     "name": "stdout",
     "output_type": "stream",
     "text": [
      "SALVADOR, BAHIA, BRAZIL\n"
     ]
    }
   ],
   "source": [
    "create_forecast_weather_file(cities)"
   ]
  },
  {
   "cell_type": "code",
   "execution_count": 5,
   "metadata": {},
   "outputs": [
    {
     "name": "stdout",
     "output_type": "stream",
     "text": [
      "2023-12-24 - SALVADOR, BAHIA, BRAZIL\n",
      "2023-12-23 - SALVADOR, BAHIA, BRAZIL\n",
      "2023-12-22 - SALVADOR, BAHIA, BRAZIL\n",
      "2023-12-21 - SALVADOR, BAHIA, BRAZIL\n",
      "2023-12-20 - SALVADOR, BAHIA, BRAZIL\n",
      "2023-12-19 - SALVADOR, BAHIA, BRAZIL\n",
      "2023-12-18 - SALVADOR, BAHIA, BRAZIL\n"
     ]
    }
   ],
   "source": [
    "create_historical_weather_file(cities)"
   ]
  },
  {
   "cell_type": "code",
   "execution_count": 6,
   "metadata": {},
   "outputs": [
    {
     "name": "stdout",
     "output_type": "stream",
     "text": [
      "SALVADOR, BAHIA, BRAZIL\n"
     ]
    }
   ],
   "source": [
    "create_current_weather_file(cities)"
   ]
  },
  {
   "cell_type": "code",
   "execution_count": null,
   "metadata": {},
   "outputs": [],
   "source": []
  }
 ],
 "metadata": {
  "kernelspec": {
   "display_name": "base",
   "language": "python",
   "name": "python3"
  },
  "language_info": {
   "codemirror_mode": {
    "name": "ipython",
    "version": 3
   },
   "file_extension": ".py",
   "mimetype": "text/x-python",
   "name": "python",
   "nbconvert_exporter": "python",
   "pygments_lexer": "ipython3",
   "version": "3.11.5"
  }
 },
 "nbformat": 4,
 "nbformat_minor": 2
}
