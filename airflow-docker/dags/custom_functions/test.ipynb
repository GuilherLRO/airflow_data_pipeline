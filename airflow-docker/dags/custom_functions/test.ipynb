{
 "cells": [
  {
   "cell_type": "code",
   "execution_count": 1,
   "metadata": {},
   "outputs": [],
   "source": [
    "from weather_data import get_cities_to_weather, create_current_weather_file, create_historical_weather_file , create_forecast_weather_file,aaaa"
   ]
  },
  {
   "cell_type": "code",
   "execution_count": 3,
   "metadata": {},
   "outputs": [],
   "source": [
    "import pandas as pd"
   ]
  },
  {
   "cell_type": "code",
   "execution_count": 4,
   "metadata": {},
   "outputs": [
    {
     "name": "stdout",
     "output_type": "stream",
     "text": [
      "['MANAUS, AMAZONAS, BRAZIL']\n"
     ]
    }
   ],
   "source": [
    "cities = get_cities_to_weather()[3:4]\n",
    "print(cities)"
   ]
  },
  {
   "cell_type": "code",
   "execution_count": 5,
   "metadata": {},
   "outputs": [
    {
     "name": "stdout",
     "output_type": "stream",
     "text": [
      "MANAUS, AMAZONAS, BRAZIL\n"
     ]
    }
   ],
   "source": [
    "create_forecast_weather_file(cities)"
   ]
  },
  {
   "cell_type": "code",
   "execution_count": 6,
   "metadata": {},
   "outputs": [
    {
     "data": {
      "text/html": [
       "<div>\n",
       "<style scoped>\n",
       "    .dataframe tbody tr th:only-of-type {\n",
       "        vertical-align: middle;\n",
       "    }\n",
       "\n",
       "    .dataframe tbody tr th {\n",
       "        vertical-align: top;\n",
       "    }\n",
       "\n",
       "    .dataframe thead th {\n",
       "        text-align: right;\n",
       "    }\n",
       "</style>\n",
       "<table border=\"1\" class=\"dataframe\">\n",
       "  <thead>\n",
       "    <tr style=\"text-align: right;\">\n",
       "      <th></th>\n",
       "      <th>query</th>\n",
       "      <th>name</th>\n",
       "      <th>region</th>\n",
       "      <th>country</th>\n",
       "      <th>lat</th>\n",
       "      <th>lon</th>\n",
       "      <th>tz_id</th>\n",
       "      <th>localtime_epoch</th>\n",
       "      <th>localtime</th>\n",
       "      <th>last_updated_epoch</th>\n",
       "      <th>...</th>\n",
       "      <th>totalprecip_mm</th>\n",
       "      <th>avgvis_km</th>\n",
       "      <th>avghumidity</th>\n",
       "      <th>daily_will_it_rain</th>\n",
       "      <th>daily_chance_of_rain</th>\n",
       "      <th>daily_will_it_snow</th>\n",
       "      <th>daily_chance_of_snow</th>\n",
       "      <th>condition_text</th>\n",
       "      <th>condition_icon</th>\n",
       "      <th>condition_code</th>\n",
       "    </tr>\n",
       "  </thead>\n",
       "  <tbody>\n",
       "    <tr>\n",
       "      <th>0</th>\n",
       "      <td>MANAUS, AMAZONAS, BRAZIL</td>\n",
       "      <td>Manaus</td>\n",
       "      <td>Amazonas</td>\n",
       "      <td>Brazil</td>\n",
       "      <td>-3.11</td>\n",
       "      <td>-60.03</td>\n",
       "      <td>America/Manaus</td>\n",
       "      <td>1703801409</td>\n",
       "      <td>2023-12-28 18:10</td>\n",
       "      <td>1703800800</td>\n",
       "      <td>...</td>\n",
       "      <td>0.31</td>\n",
       "      <td>9.8</td>\n",
       "      <td>81.0</td>\n",
       "      <td>1</td>\n",
       "      <td>84</td>\n",
       "      <td>0</td>\n",
       "      <td>0</td>\n",
       "      <td>Patchy rain possible</td>\n",
       "      <td>//cdn.weatherapi.com/weather/64x64/day/176.png</td>\n",
       "      <td>1063</td>\n",
       "    </tr>\n",
       "    <tr>\n",
       "      <th>1</th>\n",
       "      <td>MANAUS, AMAZONAS, BRAZIL</td>\n",
       "      <td>Manaus</td>\n",
       "      <td>Amazonas</td>\n",
       "      <td>Brazil</td>\n",
       "      <td>-3.11</td>\n",
       "      <td>-60.03</td>\n",
       "      <td>America/Manaus</td>\n",
       "      <td>1703801409</td>\n",
       "      <td>2023-12-28 18:10</td>\n",
       "      <td>1703800800</td>\n",
       "      <td>...</td>\n",
       "      <td>6.18</td>\n",
       "      <td>9.8</td>\n",
       "      <td>80.0</td>\n",
       "      <td>1</td>\n",
       "      <td>89</td>\n",
       "      <td>0</td>\n",
       "      <td>0</td>\n",
       "      <td>Moderate rain</td>\n",
       "      <td>//cdn.weatherapi.com/weather/64x64/day/302.png</td>\n",
       "      <td>1189</td>\n",
       "    </tr>\n",
       "    <tr>\n",
       "      <th>2</th>\n",
       "      <td>MANAUS, AMAZONAS, BRAZIL</td>\n",
       "      <td>Manaus</td>\n",
       "      <td>Amazonas</td>\n",
       "      <td>Brazil</td>\n",
       "      <td>-3.11</td>\n",
       "      <td>-60.03</td>\n",
       "      <td>America/Manaus</td>\n",
       "      <td>1703801409</td>\n",
       "      <td>2023-12-28 18:10</td>\n",
       "      <td>1703800800</td>\n",
       "      <td>...</td>\n",
       "      <td>16.64</td>\n",
       "      <td>6.5</td>\n",
       "      <td>92.0</td>\n",
       "      <td>1</td>\n",
       "      <td>89</td>\n",
       "      <td>0</td>\n",
       "      <td>0</td>\n",
       "      <td>Moderate rain</td>\n",
       "      <td>//cdn.weatherapi.com/weather/64x64/day/302.png</td>\n",
       "      <td>1189</td>\n",
       "    </tr>\n",
       "  </tbody>\n",
       "</table>\n",
       "<p>3 rows × 48 columns</p>\n",
       "</div>"
      ],
      "text/plain": [
       "                      query    name    region country   lat    lon  \\\n",
       "0  MANAUS, AMAZONAS, BRAZIL  Manaus  Amazonas  Brazil -3.11 -60.03   \n",
       "1  MANAUS, AMAZONAS, BRAZIL  Manaus  Amazonas  Brazil -3.11 -60.03   \n",
       "2  MANAUS, AMAZONAS, BRAZIL  Manaus  Amazonas  Brazil -3.11 -60.03   \n",
       "\n",
       "            tz_id  localtime_epoch         localtime  last_updated_epoch  ...  \\\n",
       "0  America/Manaus       1703801409  2023-12-28 18:10          1703800800  ...   \n",
       "1  America/Manaus       1703801409  2023-12-28 18:10          1703800800  ...   \n",
       "2  America/Manaus       1703801409  2023-12-28 18:10          1703800800  ...   \n",
       "\n",
       "  totalprecip_mm  avgvis_km  avghumidity  daily_will_it_rain  \\\n",
       "0           0.31        9.8         81.0                   1   \n",
       "1           6.18        9.8         80.0                   1   \n",
       "2          16.64        6.5         92.0                   1   \n",
       "\n",
       "  daily_chance_of_rain  daily_will_it_snow  daily_chance_of_snow  \\\n",
       "0                   84                   0                     0   \n",
       "1                   89                   0                     0   \n",
       "2                   89                   0                     0   \n",
       "\n",
       "         condition_text                                  condition_icon  \\\n",
       "0  Patchy rain possible  //cdn.weatherapi.com/weather/64x64/day/176.png   \n",
       "1         Moderate rain  //cdn.weatherapi.com/weather/64x64/day/302.png   \n",
       "2         Moderate rain  //cdn.weatherapi.com/weather/64x64/day/302.png   \n",
       "\n",
       "   condition_code  \n",
       "0            1063  \n",
       "1            1189  \n",
       "2            1189  \n",
       "\n",
       "[3 rows x 48 columns]"
      ]
     },
     "execution_count": 6,
     "metadata": {},
     "output_type": "execute_result"
    }
   ],
   "source": [
    "#read forecast file\n",
    "forecast = pd.read_csv('forecast_raw.csv')"
   ]
  },
  {
   "cell_type": "code",
   "execution_count": 12,
   "metadata": {},
   "outputs": [
    {
     "data": {
      "text/plain": [
       "0    {\"maxtemp_c\": 32.4, \"maxtemp_f\": 90.4, \"mintem...\n",
       "1    {\"maxtemp_c\": 32.5, \"maxtemp_f\": 90.6, \"mintem...\n",
       "2    {\"maxtemp_c\": 28.7, \"maxtemp_f\": 83.6, \"mintem...\n",
       "Name: day, dtype: object"
      ]
     },
     "execution_count": 12,
     "metadata": {},
     "output_type": "execute_result"
    }
   ],
   "source": [
    "forecast['day'] = forecast['day'].str.replace(\"'\", '\"')\n",
    "forecast['day']"
   ]
  },
  {
   "cell_type": "code",
   "execution_count": 8,
   "metadata": {},
   "outputs": [
    {
     "data": {
      "text/plain": [
       "Index(['query', 'name', 'region', 'country', 'lat', 'lon', 'tz_id',\n",
       "       'localtime_epoch', 'localtime', 'last_updated_epoch', 'last_updated',\n",
       "       'temp_c', 'temp_f', 'is_day', 'condition', 'wind_mph', 'wind_kph',\n",
       "       'wind_degree', 'wind_dir', 'pressure_mb', 'pressure_in', 'precip_mm',\n",
       "       'precip_in', 'humidity', 'cloud', 'feelslike_c', 'feelslike_f',\n",
       "       'vis_km', 'vis_miles', 'uv', 'gust_mph', 'gust_kph', 'date', 'day',\n",
       "       'maxtemp_c', 'mintemp_c', 'avgtemp_c', 'maxwind_kph', 'totalprecip_mm',\n",
       "       'avgvis_km', 'avghumidity', 'daily_will_it_rain',\n",
       "       'daily_chance_of_rain', 'daily_will_it_snow', 'daily_chance_of_snow',\n",
       "       'condition_text', 'condition_icon', 'condition_code'],\n",
       "      dtype='object')"
      ]
     },
     "execution_count": 8,
     "metadata": {},
     "output_type": "execute_result"
    }
   ],
   "source": [
    "forecast.columns"
   ]
  },
  {
   "cell_type": "code",
   "execution_count": 6,
   "metadata": {},
   "outputs": [
    {
     "name": "stdout",
     "output_type": "stream",
     "text": [
      "2023-12-28 - MANAUS, AMAZONAS, BRAZIL\n",
      "2023-12-27 - MANAUS, AMAZONAS, BRAZIL\n",
      "2023-12-26 - MANAUS, AMAZONAS, BRAZIL\n"
     ]
    }
   ],
   "source": [
    "create_historical_weather_file(cities)"
   ]
  },
  {
   "cell_type": "code",
   "execution_count": 7,
   "metadata": {},
   "outputs": [
    {
     "data": {
      "text/html": [
       "<div>\n",
       "<style scoped>\n",
       "    .dataframe tbody tr th:only-of-type {\n",
       "        vertical-align: middle;\n",
       "    }\n",
       "\n",
       "    .dataframe tbody tr th {\n",
       "        vertical-align: top;\n",
       "    }\n",
       "\n",
       "    .dataframe thead th {\n",
       "        text-align: right;\n",
       "    }\n",
       "</style>\n",
       "<table border=\"1\" class=\"dataframe\">\n",
       "  <thead>\n",
       "    <tr style=\"text-align: right;\">\n",
       "      <th></th>\n",
       "      <th>record_id</th>\n",
       "      <th>country</th>\n",
       "      <th>lat</th>\n",
       "      <th>localtime</th>\n",
       "      <th>localtime_epoch</th>\n",
       "      <th>lon</th>\n",
       "      <th>name</th>\n",
       "      <th>query</th>\n",
       "      <th>region</th>\n",
       "      <th>tz_id</th>\n",
       "      <th>...</th>\n",
       "      <th>totalprecip_mm</th>\n",
       "      <th>avgvis_km</th>\n",
       "      <th>avghumidity</th>\n",
       "      <th>daily_will_it_rain</th>\n",
       "      <th>daily_chance_of_rain</th>\n",
       "      <th>daily_will_it_snow</th>\n",
       "      <th>daily_chance_of_snow</th>\n",
       "      <th>condition_text</th>\n",
       "      <th>condition_icon</th>\n",
       "      <th>condition_code</th>\n",
       "    </tr>\n",
       "  </thead>\n",
       "  <tbody>\n",
       "    <tr>\n",
       "      <th>0</th>\n",
       "      <td>2ffd1c46-1149-48bc-8258-b27e8dd7e5c4</td>\n",
       "      <td>Brazil</td>\n",
       "      <td>-3.11</td>\n",
       "      <td>2023-12-28 18:10</td>\n",
       "      <td>1703801434</td>\n",
       "      <td>-60.03</td>\n",
       "      <td>Manaus</td>\n",
       "      <td>MANAUS, AMAZONAS, BRAZIL</td>\n",
       "      <td>Amazonas</td>\n",
       "      <td>America/Manaus</td>\n",
       "      <td>...</td>\n",
       "      <td>3.09</td>\n",
       "      <td>7.5</td>\n",
       "      <td>83.0</td>\n",
       "      <td>1</td>\n",
       "      <td>100</td>\n",
       "      <td>0</td>\n",
       "      <td>0</td>\n",
       "      <td>Light rain shower</td>\n",
       "      <td>//cdn.weatherapi.com/weather/64x64/day/353.png</td>\n",
       "      <td>1240</td>\n",
       "    </tr>\n",
       "    <tr>\n",
       "      <th>1</th>\n",
       "      <td>75c2fad7-ffc6-46a1-9a89-c881c2d57a0e</td>\n",
       "      <td>Brazil</td>\n",
       "      <td>-3.11</td>\n",
       "      <td>2023-12-28 18:10</td>\n",
       "      <td>1703801433</td>\n",
       "      <td>-60.03</td>\n",
       "      <td>Manaus</td>\n",
       "      <td>MANAUS, AMAZONAS, BRAZIL</td>\n",
       "      <td>Amazonas</td>\n",
       "      <td>America/Manaus</td>\n",
       "      <td>...</td>\n",
       "      <td>0.72</td>\n",
       "      <td>7.7</td>\n",
       "      <td>78.0</td>\n",
       "      <td>1</td>\n",
       "      <td>100</td>\n",
       "      <td>0</td>\n",
       "      <td>0</td>\n",
       "      <td>Light rain shower</td>\n",
       "      <td>//cdn.weatherapi.com/weather/64x64/day/353.png</td>\n",
       "      <td>1240</td>\n",
       "    </tr>\n",
       "    <tr>\n",
       "      <th>2</th>\n",
       "      <td>dc47d8fb-5ea8-4ddd-821c-b61a6d30a0f8</td>\n",
       "      <td>Brazil</td>\n",
       "      <td>-3.11</td>\n",
       "      <td>2023-12-28 18:10</td>\n",
       "      <td>1703801431</td>\n",
       "      <td>-60.03</td>\n",
       "      <td>Manaus</td>\n",
       "      <td>MANAUS, AMAZONAS, BRAZIL</td>\n",
       "      <td>Amazonas</td>\n",
       "      <td>America/Manaus</td>\n",
       "      <td>...</td>\n",
       "      <td>5.14</td>\n",
       "      <td>9.8</td>\n",
       "      <td>77.0</td>\n",
       "      <td>1</td>\n",
       "      <td>100</td>\n",
       "      <td>0</td>\n",
       "      <td>0</td>\n",
       "      <td>Light rain shower</td>\n",
       "      <td>//cdn.weatherapi.com/weather/64x64/day/353.png</td>\n",
       "      <td>1240</td>\n",
       "    </tr>\n",
       "  </tbody>\n",
       "</table>\n",
       "<p>3 rows × 26 columns</p>\n",
       "</div>"
      ],
      "text/plain": [
       "                              record_id country   lat         localtime  \\\n",
       "0  2ffd1c46-1149-48bc-8258-b27e8dd7e5c4  Brazil -3.11  2023-12-28 18:10   \n",
       "1  75c2fad7-ffc6-46a1-9a89-c881c2d57a0e  Brazil -3.11  2023-12-28 18:10   \n",
       "2  dc47d8fb-5ea8-4ddd-821c-b61a6d30a0f8  Brazil -3.11  2023-12-28 18:10   \n",
       "\n",
       "   localtime_epoch    lon    name                     query    region  \\\n",
       "0       1703801434 -60.03  Manaus  MANAUS, AMAZONAS, BRAZIL  Amazonas   \n",
       "1       1703801433 -60.03  Manaus  MANAUS, AMAZONAS, BRAZIL  Amazonas   \n",
       "2       1703801431 -60.03  Manaus  MANAUS, AMAZONAS, BRAZIL  Amazonas   \n",
       "\n",
       "            tz_id  ... totalprecip_mm avgvis_km  avghumidity  \\\n",
       "0  America/Manaus  ...           3.09       7.5         83.0   \n",
       "1  America/Manaus  ...           0.72       7.7         78.0   \n",
       "2  America/Manaus  ...           5.14       9.8         77.0   \n",
       "\n",
       "   daily_will_it_rain  daily_chance_of_rain  daily_will_it_snow  \\\n",
       "0                   1                   100                   0   \n",
       "1                   1                   100                   0   \n",
       "2                   1                   100                   0   \n",
       "\n",
       "   daily_chance_of_snow     condition_text  \\\n",
       "0                     0  Light rain shower   \n",
       "1                     0  Light rain shower   \n",
       "2                     0  Light rain shower   \n",
       "\n",
       "                                   condition_icon  condition_code  \n",
       "0  //cdn.weatherapi.com/weather/64x64/day/353.png            1240  \n",
       "1  //cdn.weatherapi.com/weather/64x64/day/353.png            1240  \n",
       "2  //cdn.weatherapi.com/weather/64x64/day/353.png            1240  \n",
       "\n",
       "[3 rows x 26 columns]"
      ]
     },
     "execution_count": 7,
     "metadata": {},
     "output_type": "execute_result"
    }
   ],
   "source": [
    "history = pd.read_csv('history_raw.csv')\n",
    "history"
   ]
  },
  {
   "cell_type": "code",
   "execution_count": null,
   "metadata": {},
   "outputs": [],
   "source": [
    "    -- Daily aggregations\n",
    "    (weather_data->>'avgtemp_c')::real as daily_avg_temperature,\n",
    "    (weather_data->>'maxtemp_c')::real as daily_max_temperature,\n",
    "    (weather_data->>'mintemp_c')::real as daily_min_temperature,\n",
    "    (weather_data->>'avghumidity')::int as daily_avg_humidity,\n",
    "    (weather_data->>'totalprecip_mm')::real as daily_precip,\n",
    "    (weather_data->>'daily_will_it_rain')::int as daily_will_it_rain,\n",
    "    (weather_data->>'daily_chance_of_rain')::int as daily_chance_of_rain,\n",
    "    (weather_data->'uv')::text::real as daily_uv_radiation,\n",
    "    (weather_data->>'avgvis_km')::real as avg_visibility,\n",
    "    (weather_data->'condition'->>'text') as daily_condition"
   ]
  }
 ],
 "metadata": {
  "kernelspec": {
   "display_name": "base",
   "language": "python",
   "name": "python3"
  },
  "language_info": {
   "codemirror_mode": {
    "name": "ipython",
    "version": 3
   },
   "file_extension": ".py",
   "mimetype": "text/x-python",
   "name": "python",
   "nbconvert_exporter": "python",
   "pygments_lexer": "ipython3",
   "version": "3.11.5"
  }
 },
 "nbformat": 4,
 "nbformat_minor": 2
}
